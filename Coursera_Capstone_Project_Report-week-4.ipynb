{
    "cells": [
        {
            "cell_type": "markdown",
            "metadata": {},
            "source": "# Coursera-Capstone-project-Report: Week 4"
        },
        {
            "cell_type": "markdown",
            "metadata": {},
            "source": "# Introduction \n##  1.Problem Statement : \n\n       \n       \n####  In a city like New York it becomes very difficult in selecting an appropriate restraurant/cuisine to eat as the City's food culture includes an array of variousinternational cuisines influenced by the city's immigrant history Central and Eastern European immigrants, especially Jewish immigrants from those regions, brought   cheesecake, hot dogs, knishes, and delicatessens (or delis) to the city. Italian immigrants brought New York-style pizza and Italian cuisine into the city, while  Jewish immigrants and Irish immigrants brought pastrami and corned beef, respectively. Chinese and other Asian restaurants, sandwich joints, trattorias, diners, and   coffeehouses are ubiquitous throughout the city. Some 4,000 mobile food vendors licensed by the city, many immigrant-owned, have made Middle Eastern foods such as falafel and kebabs are examples of modern New York street food. The city is home to \"nearly one thousand of the finest and most diverse haute cuisine restaurants in the world\" according to Michelin.\n    "
        },
        {
            "cell_type": "markdown",
            "metadata": {},
            "source": "#   Problem Discussion:\n\n\n#### To overcome such a problem I have come up with a Idea of rating all the cuisines and restraunts that are present in the neighborhood of New York city based on their customer ratings and dividng them in clusters using the skills and  knowledge of Data Science waht I have learned so far from this professianl Data Science Course."
        },
        {
            "cell_type": "markdown",
            "metadata": {},
            "source": ""
        },
        {
            "cell_type": "markdown",
            "metadata": {},
            "source": "\n# 2. Data used for solving the problem:\n\n\n##### For this project, I will be utilizing the Foursquare API to pull the following location data on restaurants in New York:  \n\n##### 1.Venue Name  \n##### 2.Venue ID  \n##### 3.Venue Location  \n##### 4.Venue Category  \n##### 5.Count of Likes  "
        },
        {
            "cell_type": "markdown",
            "metadata": {},
            "source": "###  The above data is collected from Foursquare API and Geolocator is used for getting the Latitude and Longitude values of New York City."
        },
        {
            "cell_type": "markdown",
            "metadata": {},
            "source": "# How this data is useful?"
        },
        {
            "cell_type": "markdown",
            "metadata": {},
            "source": "####    Using Geolocator one can get the latitude and Longitude values of a particular place after fetching these values we can use Forsquare API calls on these places and gather the venues that are currently happening in these areas as well as the places like restraunts present in the neighborhood and the ratings of each particular  restaurant can be assessed by using the API ant applying K-Means clustering algorithm one can cluster these restarants based on the likes and can easily predict the popularity of each restaurant helping  him to enjoy the best cuisine available in that neighborhood this would not only  help one save his time but also one can experience the best food around him."
        },
        {
            "cell_type": "code",
            "execution_count": null,
            "metadata": {},
            "outputs": [],
            "source": ""
        }
    ],
    "metadata": {
        "kernelspec": {
            "display_name": "Python 3.6",
            "language": "python",
            "name": "python3"
        },
        "language_info": {
            "codemirror_mode": {
                "name": "ipython",
                "version": 3
            },
            "file_extension": ".py",
            "mimetype": "text/x-python",
            "name": "python",
            "nbconvert_exporter": "python",
            "pygments_lexer": "ipython3",
            "version": "3.6.9"
        }
    },
    "nbformat": 4,
    "nbformat_minor": 1
}